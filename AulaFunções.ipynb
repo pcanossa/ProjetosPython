{
  "nbformat": 4,
  "nbformat_minor": 0,
  "metadata": {
    "colab": {
      "name": "Untitled3.ipynb",
      "provenance": [],
      "authorship_tag": "ABX9TyPU2PkBW33RxoB20mcwVOSF",
      "include_colab_link": true
    },
    "kernelspec": {
      "name": "python3",
      "display_name": "Python 3"
    },
    "language_info": {
      "name": "python"
    }
  },
  "cells": [
    {
      "cell_type": "markdown",
      "metadata": {
        "id": "view-in-github",
        "colab_type": "text"
      },
      "source": [
        "<a href=\"https://colab.research.google.com/github/pcanossa/pcanossa/blob/main/AulaFun%C3%A7%C3%B5es.ipynb\" target=\"_parent\"><img src=\"https://colab.research.google.com/assets/colab-badge.svg\" alt=\"Open In Colab\"/></a>"
      ]
    },
    {
      "cell_type": "markdown",
      "source": [
        "CRIANDO UMA FUNÇÃO EM PHYTON"
      ],
      "metadata": {
        "id": "bNkF9CsxAfz0"
      }
    },
    {
      "cell_type": "code",
      "source": [
        "def realce ():\n",
        "\n",
        "  print ('|________________________________________________________________________________________________________________|')\n",
        "  print ('|________________________________________________________________________________________________________________|')\n",
        "\n"
      ],
      "metadata": {
        "id": "EB7QB91CAj7z"
      },
      "execution_count": null,
      "outputs": []
    },
    {
      "cell_type": "code",
      "source": [
        "realce()\n",
        "print ('                                                            MENU                                                    ')\n",
        "realce()"
      ],
      "metadata": {
        "colab": {
          "base_uri": "https://localhost:8080/"
        },
        "id": "gmgbcTRSBOED",
        "outputId": "bf64a985-7338-412a-c3f7-a92c42740a71"
      },
      "execution_count": null,
      "outputs": [
        {
          "output_type": "stream",
          "name": "stdout",
          "text": [
            "|________________________________________________________________________________________________________________|\n",
            "|________________________________________________________________________________________________________________|\n",
            "                                                            MENU                                                    \n",
            "|________________________________________________________________________________________________________________|\n",
            "|________________________________________________________________________________________________________________|\n"
          ]
        }
      ]
    },
    {
      "cell_type": "code",
      "source": [
        "def realce2 (a):\n",
        "\n",
        "  print ('|________________________________________________________________________________________________________________|')\n",
        "  print ('                                                             ', a)\n",
        "  print ('|________________________________________________________________________________________________________________|')\n"
      ],
      "metadata": {
        "id": "CrIolhlXCioC"
      },
      "execution_count": null,
      "outputs": []
    },
    {
      "cell_type": "code",
      "source": [
        "realce2('MENU')"
      ],
      "metadata": {
        "colab": {
          "base_uri": "https://localhost:8080/"
        },
        "id": "hu3nfep_Crs8",
        "outputId": "873edb2c-aec1-4ef6-ee93-90141ce281a7"
      },
      "execution_count": null,
      "outputs": [
        {
          "output_type": "stream",
          "name": "stdout",
          "text": [
            "|________________________________________________________________________________________________________________|\n",
            "                                                              MENU\n",
            "|________________________________________________________________________________________________________________|\n"
          ]
        }
      ]
    },
    {
      "cell_type": "code",
      "source": [
        "def result (x, y):\n",
        "  res = x - y\n",
        "  print(res)\n",
        "\n",
        "result (2, 5)"
      ],
      "metadata": {
        "colab": {
          "base_uri": "https://localhost:8080/"
        },
        "id": "3oYium4xDDRT",
        "outputId": "ffb4ffd3-2b49-4f5e-90a3-cb6519a94ae5"
      },
      "execution_count": null,
      "outputs": [
        {
          "output_type": "stream",
          "name": "stdout",
          "text": [
            "-3\n"
          ]
        }
      ]
    },
    {
      "cell_type": "code",
      "source": [
        "result(8, 5)"
      ],
      "metadata": {
        "colab": {
          "base_uri": "https://localhost:8080/"
        },
        "id": "exzmKU-cDhLE",
        "outputId": "492d26a1-43f8-4944-bc3a-707b24f061cd"
      },
      "execution_count": null,
      "outputs": [
        {
          "output_type": "stream",
          "name": "stdout",
          "text": [
            "3\n"
          ]
        }
      ]
    },
    {
      "cell_type": "code",
      "source": [
        "def soma (x=0, y=0, z=0):\n",
        "  res= x + y + z\n",
        "  print(res)"
      ],
      "metadata": {
        "id": "hqrl9AgpInVi"
      },
      "execution_count": null,
      "outputs": []
    },
    {
      "cell_type": "code",
      "source": [
        "soma(1, 2, 3)\n",
        "soma(1, 2)\n",
        "soma(1)\n",
        "soma()"
      ],
      "metadata": {
        "colab": {
          "base_uri": "https://localhost:8080/"
        },
        "id": "s6Nf2SmAI1B4",
        "outputId": "b47594df-a01e-450c-8e99-d90c8a89af83"
      },
      "execution_count": null,
      "outputs": [
        {
          "output_type": "stream",
          "name": "stdout",
          "text": [
            "6\n",
            "3\n",
            "1\n",
            "0\n"
          ]
        }
      ]
    },
    {
      "cell_type": "markdown",
      "source": [
        "Exercício 1"
      ],
      "metadata": {
        "id": "2zSovtgHJgf1"
      }
    },
    {
      "cell_type": "code",
      "source": [
        "def destaq(a):\n",
        "  b=len(a)\n",
        "  if b:\n",
        "    print('+','-'*b,'+')\n",
        "    print('|',a,'|')\n",
        "    print('+','-'*b,'+')"
      ],
      "metadata": {
        "id": "tqjlRFIIJlyC"
      },
      "execution_count": null,
      "outputs": []
    },
    {
      "cell_type": "code",
      "source": [
        "destaq('PAT')\n",
        "destaq('Minha Matília Feliz')"
      ],
      "metadata": {
        "colab": {
          "base_uri": "https://localhost:8080/"
        },
        "id": "ArKIbQokK1pv",
        "outputId": "808e84de-aa2e-45d9-cd23-2733a90f6194"
      },
      "execution_count": null,
      "outputs": [
        {
          "output_type": "stream",
          "name": "stdout",
          "text": [
            "+ --- +\n",
            "| PAT |\n",
            "+ --- +\n",
            "+ ------------------- +\n",
            "| Minha Matília Feliz |\n",
            "+ ------------------- +\n"
          ]
        }
      ]
    },
    {
      "cell_type": "code",
      "source": [
        "def ordem(x, y, z):\n",
        "  maiorx=x>y and x>z\n",
        "  maiory=y>x and y>z\n",
        "  maiorz=z>x and z>y\n",
        "  if maiorx:\n",
        "    maior=x\n",
        "    if y>z:\n",
        "      meio=y\n",
        "      fim=z\n",
        "    if z>y:\n",
        "      meio=z\n",
        "      fim=y\n",
        "  elif maiory:\n",
        "    maior=y\n",
        "    if x>z:\n",
        "      meio=x\n",
        "      fim=z\n",
        "    if z>x:\n",
        "      meio=z\n",
        "      fim=x\n",
        "  elif maiorz:\n",
        "    maior=z\n",
        "    if x>y:\n",
        "      meio=x\n",
        "      fim=y\n",
        "    if y>x:\n",
        "      meio=y\n",
        "      fim=x\n",
        "  print ('A ordem dos números é:')\n",
        "  print ('---> {}, {}, {}' .format(maior, meio, fim))     "
      ],
      "metadata": {
        "id": "gQVgKOcrMBJn"
      },
      "execution_count": null,
      "outputs": []
    },
    {
      "cell_type": "code",
      "source": [
        "a=int(input('Digite o primeiro valor:'))\n",
        "b=int(input('Digite o segundo valor:'))\n",
        "c=int(input('Digite o terceiro valor:'))\n",
        "print('')\n",
        "ordem(a, b, c)\n"
      ],
      "metadata": {
        "colab": {
          "base_uri": "https://localhost:8080/"
        },
        "id": "hq_gctEfNz8G",
        "outputId": "129bda69-289f-4b9a-c3fe-069c6d1207e5"
      },
      "execution_count": null,
      "outputs": [
        {
          "output_type": "stream",
          "name": "stdout",
          "text": [
            "Digite o primeiro valor:0\n",
            "Digite o segundo valor:2\n",
            "Digite o terceiro valor:3\n",
            "\n",
            "A ordem dos números é:\n",
            "---> 3, 2, 0\n"
          ]
        }
      ]
    },
    {
      "cell_type": "code",
      "source": [
        "def comida():\n",
        "  ovos='variável de comida'\n",
        "  bacon()\n",
        "  print(ovos)\n",
        "\n",
        "def bacon():\n",
        "  ovos='variável de bacon'\n",
        "  print(ovos)\n",
        "\n",
        "def comida2():\n",
        "  global ovos\n",
        "  ovos='comida'  \n",
        "\n",
        "def geladeira():\n",
        "  print(ovos)  \n"
      ],
      "metadata": {
        "id": "g4h7S4fGVVwU"
      },
      "execution_count": null,
      "outputs": []
    },
    {
      "cell_type": "code",
      "source": [
        "ovos='global'\n",
        "print(ovos)\n",
        "comida2()\n",
        "comida()\n",
        "print(ovos)\n",
        "geladeira()\n"
      ],
      "metadata": {
        "colab": {
          "base_uri": "https://localhost:8080/"
        },
        "id": "74FH5hazVcvf",
        "outputId": "0f498b58-f252-436c-a5f5-70e00c990d7c"
      },
      "execution_count": null,
      "outputs": [
        {
          "output_type": "stream",
          "name": "stdout",
          "text": [
            "global\n",
            "variável de bacon\n",
            "variável de comida\n",
            "comida\n",
            "comida\n"
          ]
        }
      ]
    },
    {
      "cell_type": "code",
      "source": [
        "def soma (x=0, y=0, z=0):\n",
        "  res= x + y + z\n",
        "  return res"
      ],
      "metadata": {
        "id": "-CyFX1AEY4pZ"
      },
      "execution_count": null,
      "outputs": []
    },
    {
      "cell_type": "code",
      "source": [
        "retorno=soma(1,7,6)\n",
        "print(retorno)\n",
        "print (soma(7,1,6))"
      ],
      "metadata": {
        "colab": {
          "base_uri": "https://localhost:8080/"
        },
        "id": "3wKopzo3ZCo2",
        "outputId": "7e80d1a4-5521-474e-a0f5-e0202500567f"
      },
      "execution_count": null,
      "outputs": [
        {
          "output_type": "stream",
          "name": "stdout",
          "text": [
            "14\n",
            "14\n"
          ]
        }
      ]
    },
    {
      "cell_type": "code",
      "source": [
        "def tamstr(frase, a, b):\n",
        "  stri=input(frase)\n",
        "  tamanho=len(stri)\n",
        "  valid=tamanho<=b and tamanho>=a\n",
        "  while valid==False:\n",
        "    stri=input(frase)\n",
        "    tamanho=len(stri)\n",
        "  return stri\n"
      ],
      "metadata": {
        "id": "yDaMQ6usaBFu"
      },
      "execution_count": null,
      "outputs": []
    },
    {
      "cell_type": "code",
      "source": [
        "print ('Tamamnho de texto entre 3 à 10 caracteres')\n",
        "res=tamstr('Digite a frase', 3, 10)\n",
        "print ('')\n",
        "print('A frase está dentro do padrão necessário. \\n Encerrando o programa...')\n"
      ],
      "metadata": {
        "colab": {
          "base_uri": "https://localhost:8080/"
        },
        "id": "sODgxMPma0Pj",
        "outputId": "14c94a93-88c5-4f7b-8d10-8ee4d175776e"
      },
      "execution_count": null,
      "outputs": [
        {
          "output_type": "stream",
          "name": "stdout",
          "text": [
            "Tamamnho de texto entre 3 à 10 caracteres\n",
            "Digite a fraseBom dia\n",
            "\n",
            "A frase está dentro do padrão necessário. \n",
            " Encerrando o programa...\n"
          ]
        }
      ]
    },
    {
      "cell_type": "code",
      "source": [
        "#Fatorial\n",
        "\n",
        "def fatorial(n):\n",
        "  num=int(input(n))\n",
        "  global fat\n",
        "  fat=num\n",
        "  while num>=1:\n",
        "    fat=fat*(num-1)\n",
        "    num=num-1\n",
        "    return num\n",
        "\n",
        "\n",
        "\n"
      ],
      "metadata": {
        "id": "DqYNMRpojbbW"
      },
      "execution_count": null,
      "outputs": []
    },
    {
      "cell_type": "code",
      "source": [
        "res=fatorial('Digite o número a ser fatoriado: ')\n",
        "print ('resultado--> {}'.format(fat))"
      ],
      "metadata": {
        "colab": {
          "base_uri": "https://localhost:8080/"
        },
        "id": "hDbYydvGlrzq",
        "outputId": "d8a7098a-7da3-4021-d95d-1b37fb5430f7"
      },
      "execution_count": null,
      "outputs": [
        {
          "output_type": "stream",
          "name": "stdout",
          "text": [
            "Digite o número a ser fatoriado: 0\n",
            "resultado--> 0\n"
          ]
        }
      ]
    },
    {
      "cell_type": "code",
      "source": [
        "while True:\n",
        "  try:\n",
        "    int(input('Digite um número:'))\n",
        "    break\n",
        "  except ValueError:\n",
        "    print('Valor não reconhecido, favor digitar um número:')\n",
        "      \n"
      ],
      "metadata": {
        "colab": {
          "base_uri": "https://localhost:8080/"
        },
        "id": "geRruGDfsgus",
        "outputId": "7679f5f5-d382-4452-d706-4eea50339830"
      },
      "execution_count": null,
      "outputs": [
        {
          "name": "stdout",
          "output_type": "stream",
          "text": [
            "Digite um número:a\n",
            "Valor não reconhecido, favor digitar um número:\n",
            "Digite um número:2\n"
          ]
        }
      ]
    },
    {
      "cell_type": "code",
      "source": [
        "def imprime_condicao(num, fcond):\n",
        "  if fcond(num):\n",
        "    print(num)\n",
        "\n",
        "def par(x):\n",
        "  x % 2 ==0\n",
        "\n",
        "def impar(x):\n",
        "  return not par(x)\n",
        "\n",
        "imprime_condicao(5, par)\n",
        "imprime_condicao(7, impar)"
      ],
      "metadata": {
        "colab": {
          "base_uri": "https://localhost:8080/"
        },
        "id": "KViV44iKuVhT",
        "outputId": "6bb0236b-153e-4aa4-ccd3-6fca10fc931d"
      },
      "execution_count": null,
      "outputs": [
        {
          "output_type": "stream",
          "name": "stdout",
          "text": [
            "7\n"
          ]
        }
      ]
    },
    {
      "cell_type": "code",
      "source": [
        "res = lambda x, y, z: (x**y-2)+z/(y**x+x**y)\n",
        "print (res(2,7,9))"
      ],
      "metadata": {
        "colab": {
          "base_uri": "https://localhost:8080/"
        },
        "id": "g4bCDl2-wDYn",
        "outputId": "5a292b84-24d7-46f1-b5ca-45a7f2a6e8f1"
      },
      "execution_count": null,
      "outputs": [
        {
          "output_type": "stream",
          "name": "stdout",
          "text": [
            "126.05084745762711\n"
          ]
        }
      ]
    }
  ]
}