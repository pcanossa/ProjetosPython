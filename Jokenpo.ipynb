{
  "nbformat": 4,
  "nbformat_minor": 0,
  "metadata": {
    "colab": {
      "name": "Untitled7.ipynb",
      "provenance": [],
      "authorship_tag": "ABX9TyPtx8tujc+0ARBdPttaTWJg",
      "include_colab_link": true
    },
    "kernelspec": {
      "name": "python3",
      "display_name": "Python 3"
    },
    "language_info": {
      "name": "python"
    }
  },
  "cells": [
    {
      "cell_type": "markdown",
      "metadata": {
        "id": "view-in-github",
        "colab_type": "text"
      },
      "source": [
        "<a href=\"https://colab.research.google.com/github/pcanossa/pcanossa/blob/main/Jokenpo.ipynb\" target=\"_parent\"><img src=\"https://colab.research.google.com/assets/colab-badge.svg\" alt=\"Open In Colab\"/></a>"
      ]
    },
    {
      "cell_type": "code",
      "execution_count": null,
      "metadata": {
        "id": "yRyRMUfoVzsF"
      },
      "outputs": [],
      "source": [
        "import random\n",
        "\n",
        "jokenpo={'opcao':[],'jokenpo':[]}\n",
        "jokenpo['opcao'].append('1')\n",
        "jokenpo['opcao'].append('2')\n",
        "jokenpo['opcao'].append('3')\n",
        "jokenpo['jokenpo'].append('pedra')\n",
        "jokenpo['jokenpo'].append('papel')\n",
        "jokenpo['jokenpo'].append('tesoura')\n",
        "\n",
        "\n",
        "\n",
        "def valid(leng):\n",
        "    tam=leng+1\n",
        "    valid=''\n",
        "    global jokescolhido, opescolhida, terminar\n",
        "    terminar = ''\n",
        "    while not valid:\n",
        "        escolha=input('Escolha uma opção:')\n",
        "        for i in range (tam):\n",
        "            if jokenpo['opcao'][i]==escolha:\n",
        "                valid='ok'\n",
        "                opescolhida=jokenpo['opcao'][i]\n",
        "                jokescolhido=jokenpo['jokenpo'][i]\n",
        "        if escolha=='0':\n",
        "            terminar='sim'\n",
        "            valid='ok'\n",
        "            print ('Finalizando jogo...')\n",
        "        if (not valid) and (not terminar):\n",
        "            print ('Opção inválida. Escolha novamente')\n",
        "\n",
        "\n",
        "\n",
        "\n",
        "\n",
        "def pc():\n",
        "    global pcopcao, pcjokenpo\n",
        "    tam=(len(jokenpo))+1\n",
        "    pcopcao=''\n",
        "    pcjokenpo=''\n",
        "    pcesc=random.choice(jokenpo['opcao'])\n",
        "    for i in range (tam):\n",
        "        if pcesc==jokenpo['opcao'][i]:\n",
        "            pcopcao=jokenpo['opcao'][i]\n",
        "            pcjokenpo=jokenpo['jokenpo'][i]\n",
        "    return pcopcao, pcjokenpo\n",
        "\n",
        "\n",
        "\n",
        "\n",
        "\n",
        "\n",
        "print ('Oções de Jokenpo:')\n",
        "print ('1 --> Pedra')\n",
        "print ('2 --> Papel')\n",
        "print ('3 --> Tesoura')\n",
        "print ('0 --> Finalizar jogo')\n",
        "\n",
        "terminare=''\n",
        "while not terminare:\n",
        "        valid(len(jokenpo))\n",
        "        if not terminar:\n",
        "            pc()\n",
        "            print('')\n",
        "            usu=jokescolhido\n",
        "            pce=pcjokenpo\n",
        "\n",
        "            print ('Voce escolheu {}, e o computador {}\\n'.format(jokescolhido, pcjokenpo))\n",
        "\n",
        "            if usu==pce:\n",
        "                print('Jogo empatado!\n')\n",
        "            elif (usu=='pedra' and pce=='tesoura') or (usu=='tesoura' and pce=='papel') or (usu=='papel' and pce=='pedra'):\n",
        "                print('Voce ganhou!\n')\n",
        "            else:\n",
        "                print('Voce perdeu!\n')\n",
        "        if terminar:\n",
        "            terminare='fim'\n"
      ]
    }
  ]
}
