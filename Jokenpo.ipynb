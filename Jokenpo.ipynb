{
  "nbformat": 4,
  "nbformat_minor": 0,
  "metadata": {
    "colab": {
      "name": "Untitled6.ipynb",
      "provenance": [],
      "authorship_tag": "ABX9TyMbjLq98A3w0wthO8Z8AhxT",
      "include_colab_link": true
    },
    "kernelspec": {
      "name": "python3",
      "display_name": "Python 3"
    },
    "language_info": {
      "name": "python"
    }
  },
  "cells": [
    {
      "cell_type": "markdown",
      "metadata": {
        "id": "view-in-github",
        "colab_type": "text"
      },
      "source": [
        "<a href=\"https://colab.research.google.com/github/pcanossa/pcanossa/blob/main/Jokenpo.ipynb\" target=\"_parent\"><img src=\"https://colab.research.google.com/assets/colab-badge.svg\" alt=\"Open In Colab\"/></a>"
      ]
    },
    {
      "cell_type": "code",
      "execution_count": null,
      "metadata": {
        "id": "j8lX8uOTSE23"
      },
      "outputs": [],
      "source": [
        "import random\n",
        "\n",
        "jokenpo={'opcao':[],'jokenpo':[]}\n",
        "jokenpo['opcao'].append('1')\n",
        "jokenpo['opcao'].append('2')\n",
        "jokenpo['opcao'].append('3')\n",
        "jokenpo['jokenpo'].append('pedra')\n",
        "jokenpo['jokenpo'].append('papel')\n",
        "jokenpo['jokenpo'].append('tesoura')\n",
        "\n",
        "\n",
        "\n",
        "def valid(leng):\n",
        "    tam=leng+1\n",
        "    valid=''\n",
        "    global jokescolhido, opescolhida\n",
        "    while not valid:\n",
        "        escolha=input('Escolha uma opção:')\n",
        "        for i in range (tam):\n",
        "            if jokenpo['opcao'][i]==escolha:\n",
        "                valid='ok'\n",
        "                opescolhida=jokenpo['opcao'][i]\n",
        "                jokescolhido=jokenpo['jokenpo'][i]\n",
        "        if not valid:\n",
        "            print ('Opção inválida. Escolha novamente')\n",
        "    return opescolhida, jokescolhido\n",
        "\n",
        "\n",
        "\n",
        "def pc(leng):\n",
        "    global pcopcao, pcjokenpo\n",
        "    tam=leng+1\n",
        "    pcopcao=''\n",
        "    pcjokenpo=''\n",
        "    pcesc=random.choice(jokenpo['opcao'])\n",
        "    for i in range (tam):\n",
        "        if pcesc==jokenpo['opcao'][i]:\n",
        "            pcopcao=jokenpo['opcao'][i]\n",
        "            pcjokenpo=jokenpo['jokenpo'][i]\n",
        "    return pcopcao, pcjokenpo\n",
        "\n",
        "\n",
        "\n",
        "\n",
        "\n",
        "\n",
        "print ('Oções de Jokenpo:')\n",
        "print ('1 --> Pedra')\n",
        "print ('2 --> Papel')\n",
        "print ('3 --> Tesoura')\n",
        "\n",
        "valid(len(jokenpo))\n",
        "pc(len(jokenpo))\n",
        "print('')\n",
        "usu=jokescolhido\n",
        "pc=pcjokenpo\n",
        "\n",
        "print ('Voce escolheu {}, e o computador {}\\n'.format(jokescolhido, pcjokenpo))\n",
        "\n",
        "if usu==pc:\n",
        "    print('Jogo empatado!')\n",
        "elif (usu=='pedra' and pc=='tesoura') or (usu=='tesoura' and pc=='papel') or (usu=='papel' and pc=='pedra'):\n",
        "    print('Voce ganhou!')\n",
        "else:\n",
        "    print('Voce perdeu!')\n"
      ]
    }
  ]
}