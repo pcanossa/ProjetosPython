{
  "nbformat": 4,
  "nbformat_minor": 0,
  "metadata": {
    "colab": {
      "name": "Untitled5.ipynb",
      "provenance": [],
      "authorship_tag": "ABX9TyMR8XsM6Bmt3/MQeBslyJ67",
      "include_colab_link": true
    },
    "kernelspec": {
      "name": "python3",
      "display_name": "Python 3"
    },
    "language_info": {
      "name": "python"
    }
  },
  "cells": [
    {
      "cell_type": "markdown",
      "metadata": {
        "id": "view-in-github",
        "colab_type": "text"
      },
      "source": [
        "<a href=\"https://colab.research.google.com/github/pcanossa/pcanossa/blob/main/ManipDadosEStrings.ipynb\" target=\"_parent\"><img src=\"https://colab.research.google.com/assets/colab-badge.svg\" alt=\"Open In Colab\"/></a>"
      ]
    },
    {
      "cell_type": "code",
      "execution_count": null,
      "metadata": {
        "colab": {
          "base_uri": "https://localhost:8080/"
        },
        "id": "U7pSHUDCAFnA",
        "outputId": "d20db810-083c-4f74-9737-284ed3ca4a13"
      },
      "outputs": [
        {
          "output_type": "stream",
          "name": "stdout",
          "text": [
            "('teckel', 'pastor', 'cocker', 'poodle')\n"
          ]
        }
      ],
      "source": [
        "raca=('teckel', 'pastor','cocker', 'poodle')\n",
        "print (raca)"
      ]
    },
    {
      "cell_type": "markdown",
      "source": [
        "Tuplas"
      ],
      "metadata": {
        "id": "-vlmje9WB6pn"
      }
    },
    {
      "cell_type": "code",
      "source": [
        "print(raca[1])\n",
        "print (raca[1:3])\n",
        "print (raca[3])\n",
        "print (raca[:3])\n",
        "print (raca[-2])"
      ],
      "metadata": {
        "colab": {
          "base_uri": "https://localhost:8080/"
        },
        "id": "AZzzXHgqBAXA",
        "outputId": "87dace86-5e70-4807-b8e7-50d18cbff6e0"
      },
      "execution_count": null,
      "outputs": [
        {
          "output_type": "stream",
          "name": "stdout",
          "text": [
            "pastor\n",
            "('pastor', 'cocker')\n",
            "poodle\n",
            "('teckel', 'pastor', 'cocker')\n",
            "cocker\n"
          ]
        }
      ]
    },
    {
      "cell_type": "code",
      "source": [
        "raca[3]='buldogue'\n",
        "#Tuplas não suportam mudanças"
      ],
      "metadata": {
        "colab": {
          "base_uri": "https://localhost:8080/",
          "height": 165
        },
        "id": "SVu1jo9uBqBG",
        "outputId": "f6403815-f070-4a00-fa75-1e64ebc34159"
      },
      "execution_count": null,
      "outputs": [
        {
          "output_type": "error",
          "ename": "TypeError",
          "evalue": "ignored",
          "traceback": [
            "\u001b[0;31m---------------------------------------------------------------------------\u001b[0m",
            "\u001b[0;31mTypeError\u001b[0m                                 Traceback (most recent call last)",
            "\u001b[0;32m<ipython-input-7-459134fdbb8a>\u001b[0m in \u001b[0;36m<module>\u001b[0;34m()\u001b[0m\n\u001b[0;32m----> 1\u001b[0;31m \u001b[0mraca\u001b[0m\u001b[0;34m[\u001b[0m\u001b[0;36m3\u001b[0m\u001b[0;34m]\u001b[0m\u001b[0;34m=\u001b[0m\u001b[0;34m'buldogue'\u001b[0m\u001b[0;34m\u001b[0m\u001b[0;34m\u001b[0m\u001b[0m\n\u001b[0m",
            "\u001b[0;31mTypeError\u001b[0m: 'tuple' object does not support item assignment"
          ]
        }
      ]
    },
    {
      "cell_type": "code",
      "source": [
        "for tipo in raca:\n",
        "  print ('Entre as raças de cães, existem {}'.format(tipo))"
      ],
      "metadata": {
        "colab": {
          "base_uri": "https://localhost:8080/"
        },
        "id": "l1d8GMBgCGV0",
        "outputId": "bcdc82a3-53aa-4700-d5a8-fb0d99f8968d"
      },
      "execution_count": null,
      "outputs": [
        {
          "output_type": "stream",
          "name": "stdout",
          "text": [
            "Entre as raças de cães, existem teckel\n",
            "Entre as raças de cães, existem pastor\n",
            "Entre as raças de cães, existem cocker\n",
            "Entre as raças de cães, existem poodle\n"
          ]
        }
      ]
    },
    {
      "cell_type": "code",
      "source": [
        "tam = len(raca)\n",
        "for i in range (tam):\n",
        "  print ('Entre as raças de cães, existem {}'.format(raca[i]))"
      ],
      "metadata": {
        "colab": {
          "base_uri": "https://localhost:8080/"
        },
        "id": "-2tKD8ZxClHg",
        "outputId": "4f0fae40-480b-4fac-c02d-0a268cc682d5"
      },
      "execution_count": null,
      "outputs": [
        {
          "output_type": "stream",
          "name": "stdout",
          "text": [
            "Entre as raças de cães, existem teckel\n",
            "Entre as raças de cães, existem pastor\n",
            "Entre as raças de cães, existem cocker\n",
            "Entre as raças de cães, existem poodle\n"
          ]
        }
      ]
    },
    {
      "cell_type": "code",
      "source": [
        "upgrade = ('buldogue', 'spitz', 'rottweiller')\n",
        "kennel=raca+upgrade\n",
        "kennel2=upgrade+raca\n",
        "\n",
        "print (kennel)\n",
        "print (kennel2)"
      ],
      "metadata": {
        "colab": {
          "base_uri": "https://localhost:8080/"
        },
        "id": "IUbM2e5yC99N",
        "outputId": "917c2c56-6459-4d06-e7c4-0a6eed025652"
      },
      "execution_count": null,
      "outputs": [
        {
          "output_type": "stream",
          "name": "stdout",
          "text": [
            "('teckel', 'pastor', 'cocker', 'poodle', 'buldogue', 'spitz', 'rottweiller')\n",
            "('buldogue', 'spitz', 'rottweiller', 'teckel', 'pastor', 'cocker', 'poodle')\n"
          ]
        }
      ]
    },
    {
      "cell_type": "code",
      "source": [
        "def soma (*num):\n",
        "  soma=0\n",
        "  print ('Tupla = {}'.format(num))\n",
        "  for i in num:\n",
        "    soma+=1\n",
        "  return soma  \n",
        "\n",
        "print ('Resultado: {}'.format(soma(1, 2, 3, 5)) )\n"
      ],
      "metadata": {
        "colab": {
          "base_uri": "https://localhost:8080/"
        },
        "id": "636_6HpSDrT2",
        "outputId": "2e7ccc7e-7a63-4d59-95af-5261fcdef6c2"
      },
      "execution_count": null,
      "outputs": [
        {
          "output_type": "stream",
          "name": "stdout",
          "text": [
            "Tupla = (1, 2, 3, 5)\n",
            "Resultado: 4\n"
          ]
        }
      ]
    },
    {
      "cell_type": "markdown",
      "source": [
        "Listas"
      ],
      "metadata": {
        "id": "IbO3gAwxOJKU"
      }
    },
    {
      "cell_type": "code",
      "source": [
        "raca=['teckel', 'pastor','cocker', 'poodle']\n",
        "print (raca)\n",
        "raca[2]='rotweiller'\n",
        "print (raca)\n",
        "#Lista é dinâmina, diferente ta tupla"
      ],
      "metadata": {
        "colab": {
          "base_uri": "https://localhost:8080/"
        },
        "id": "6dp_fhxvOKWJ",
        "outputId": "95f53312-d36c-42eb-99ad-c05185c04527"
      },
      "execution_count": null,
      "outputs": [
        {
          "output_type": "stream",
          "name": "stdout",
          "text": [
            "['teckel', 'pastor', 'cocker', 'poodle']\n",
            "['teckel', 'pastor', 'rotweiller', 'poodle']\n"
          ]
        }
      ]
    },
    {
      "cell_type": "code",
      "source": [
        "raca.append('pinscher')\n",
        "print (raca)"
      ],
      "metadata": {
        "colab": {
          "base_uri": "https://localhost:8080/"
        },
        "id": "xja5vSI9OfPv",
        "outputId": "fed369c2-0ce4-4ac7-bb8a-69fde7ee306a"
      },
      "execution_count": null,
      "outputs": [
        {
          "output_type": "stream",
          "name": "stdout",
          "text": [
            "['teckel', 'pastor', 'rotweiller', 'poodle', 'pinscher']\n"
          ]
        }
      ]
    },
    {
      "cell_type": "code",
      "source": [
        "raca.insert(3,'buldogue')\n",
        "print (raca)"
      ],
      "metadata": {
        "colab": {
          "base_uri": "https://localhost:8080/"
        },
        "id": "aV5uOXFYO9JP",
        "outputId": "116c1e32-ad71-436a-be63-c623fcad567b"
      },
      "execution_count": null,
      "outputs": [
        {
          "output_type": "stream",
          "name": "stdout",
          "text": [
            "['teckel', 'pastor', 'rotweiller', 'buldogue', 'poodle', 'pinscher']\n"
          ]
        }
      ]
    },
    {
      "cell_type": "code",
      "source": [
        "del raca[4]\n",
        "print (raca)\n",
        "\n",
        "raca.remove('pastor')\n",
        "print (raca)"
      ],
      "metadata": {
        "colab": {
          "base_uri": "https://localhost:8080/"
        },
        "id": "rJQmwYijPRUx",
        "outputId": "3707b878-36ab-433c-a5c3-e182b20f2520"
      },
      "execution_count": null,
      "outputs": [
        {
          "output_type": "stream",
          "name": "stdout",
          "text": [
            "['teckel', 'pastor', 'rotweiller', 'buldogue']\n",
            "['teckel', 'rotweiller', 'buldogue']\n"
          ]
        }
      ]
    },
    {
      "cell_type": "code",
      "source": [
        "x=[5, 7, 10, 6]\n",
        "y=x\n",
        "print (x)\n",
        "print (y)"
      ],
      "metadata": {
        "colab": {
          "base_uri": "https://localhost:8080/"
        },
        "id": "xtmYyurvPqtD",
        "outputId": "78a46966-521d-4b5a-97bb-2f9b44094e93"
      },
      "execution_count": null,
      "outputs": [
        {
          "output_type": "stream",
          "name": "stdout",
          "text": [
            "[5, 7, 10, 6]\n",
            "[5, 7, 10, 6]\n"
          ]
        }
      ]
    },
    {
      "cell_type": "code",
      "source": [
        "y[0]=3\n",
        "print (x)\n",
        "print(y)"
      ],
      "metadata": {
        "colab": {
          "base_uri": "https://localhost:8080/"
        },
        "id": "g-s8eksrTmqu",
        "outputId": "55a63570-29e7-4f8f-947d-c0a3912a11ea"
      },
      "execution_count": null,
      "outputs": [
        {
          "output_type": "stream",
          "name": "stdout",
          "text": [
            "[3, 7, 10, 6]\n",
            "[3, 7, 10, 6]\n"
          ]
        }
      ]
    },
    {
      "cell_type": "code",
      "source": [
        "z=x[:]\n",
        "print (z)\n",
        "z[0]=9\n",
        "print (x)\n",
        "print (z)"
      ],
      "metadata": {
        "colab": {
          "base_uri": "https://localhost:8080/"
        },
        "id": "3ugWMP1wTuci",
        "outputId": "738f3b28-60a5-474d-a0d0-b9c725049670"
      },
      "execution_count": null,
      "outputs": [
        {
          "output_type": "stream",
          "name": "stdout",
          "text": [
            "[3, 7, 10, 6]\n",
            "[3, 7, 10, 6]\n",
            "[9, 7, 10, 6]\n"
          ]
        }
      ]
    },
    {
      "cell_type": "markdown",
      "source": [
        "Idexação dupla"
      ],
      "metadata": {
        "id": "ThE-b-Gxcril"
      }
    },
    {
      "cell_type": "code",
      "source": [
        "print (raca[0])\n",
        "print (raca[0][2])"
      ],
      "metadata": {
        "colab": {
          "base_uri": "https://localhost:8080/"
        },
        "id": "RHN-qKvlctPv",
        "outputId": "22db7173-d99c-4d99-b02d-3af37b72c651"
      },
      "execution_count": null,
      "outputs": [
        {
          "output_type": "stream",
          "name": "stdout",
          "text": [
            "teckel\n",
            "c\n"
          ]
        }
      ]
    },
    {
      "cell_type": "code",
      "source": [
        "for item in raca:\n",
        "  for letra in item:\n",
        "    print (letra, end='')\n",
        "  print()  "
      ],
      "metadata": {
        "colab": {
          "base_uri": "https://localhost:8080/"
        },
        "id": "JltJmT62c-kU",
        "outputId": "87fb538c-93df-436c-b268-7a269b6b1f9b"
      },
      "execution_count": null,
      "outputs": [
        {
          "output_type": "stream",
          "name": "stdout",
          "text": [
            "teckel\n",
            "rotweiller\n",
            "buldogue\n"
          ]
        }
      ]
    },
    {
      "cell_type": "code",
      "source": [
        "for item in range (len(raca)):\n",
        "  for letra in range (len(raca[item])):\n",
        "    print ((raca[item][letra]), end='')\n",
        "  print  ()\n"
      ],
      "metadata": {
        "colab": {
          "base_uri": "https://localhost:8080/"
        },
        "id": "xkTIiGnIfini",
        "outputId": "fdbf5bef-43de-4c54-c2d0-62c54187c11b"
      },
      "execution_count": null,
      "outputs": [
        {
          "output_type": "stream",
          "name": "stdout",
          "text": [
            "teckel\n",
            "rotweiller\n",
            "buldogue\n"
          ]
        }
      ]
    },
    {
      "cell_type": "markdown",
      "source": [
        "Lista dentro de listas"
      ],
      "metadata": {
        "id": "jmm_PAJAguKH"
      }
    },
    {
      "cell_type": "code",
      "source": [
        "lanches=[['xtudo',7.50],['xsalada',5.00],['xburguer',6.00],['xfilé',8.50],['Hot Dog',5.00]]\n",
        "print (lanches)\n",
        "print (lanches[2])\n",
        "print (lanches[2][0])\n",
        "print (lanches[2][1])\n"
      ],
      "metadata": {
        "colab": {
          "base_uri": "https://localhost:8080/"
        },
        "id": "ZUR-vswBgwEJ",
        "outputId": "7d5668b1-2bca-46e7-c839-ade22182c2ba"
      },
      "execution_count": null,
      "outputs": [
        {
          "output_type": "stream",
          "name": "stdout",
          "text": [
            "[['xtudo', 7.5], ['xsalada', 5.0], ['xburguer', 6.0], ['xfilé', 8.5], ['Hot Dog', 5.0]]\n",
            "['xburguer', 6.0]\n",
            "xburguer\n",
            "6.0\n"
          ]
        }
      ]
    },
    {
      "cell_type": "code",
      "source": [
        "def lista():\n",
        "\n",
        "  for i in range (len(lanches)):\n",
        "    t=16-(len(lanches[i][0]))\n",
        "    print ('  {}'.format((lanches[i][0])),' '*t,'R${}   '.format((lanches[i][1])))\n",
        "print ('  Lanche          Valor')\n",
        "lista  () \n"
      ],
      "metadata": {
        "colab": {
          "base_uri": "https://localhost:8080/"
        },
        "id": "Bpr9TSteiBYx",
        "outputId": "dffab2aa-97d8-4367-ae2f-9865aa56951d"
      },
      "execution_count": null,
      "outputs": [
        {
          "output_type": "stream",
          "name": "stdout",
          "text": [
            "  Lanche          Valor\n",
            "  xtudo             R$7.5   \n",
            "  xsalada           R$5.0   \n",
            "  xburguer          R$6.0   \n",
            "  xfilé             R$8.5   \n",
            "  Hot Dog           R$5.0   \n"
          ]
        }
      ]
    },
    {
      "cell_type": "code",
      "source": [
        "compras=[]\n",
        "listam=[]\n",
        "def compra():\n",
        "  prod=[]\n",
        "  prod.append(input('Qual item deve ser comprado?: '))\n",
        "  prod.append(input('Qual a quantidade?: '))\n",
        "  \n",
        "  listam.append(prod[:])\n",
        "  prod.clear()\n",
        "  print()\n",
        "  \n",
        "\n",
        "def mais():\n",
        "  fim=''\n",
        "  while not fim:\n",
        "    mais=input('Deseja incluir mais algo na lista? (s/n)')\n",
        "    if mais !='s' and mais !='n':\n",
        "      print('Seleção errada...')\n",
        "    elif mais == 's':\n",
        "      compra()\n",
        "    elif mais =='n' :\n",
        "      fim='fim'\n",
        "      print ('Ok, gerando a lista...')  \n",
        "      print ('Produto                    Quantidade') \n",
        "\n",
        "\n",
        "def imprimelista():\n",
        "  for i in range (len(listam)):\n",
        "    t=26-(len(listam[i][0]))\n",
        "    print (' {}'.format((listam[i][0])),t*' ','{}'.format((listam[i][1])))\n",
        "\n",
        "\n",
        "compra()\n",
        "mais()\n",
        "imprimelista()\n",
        "\n",
        "\n",
        "\n",
        "\n",
        "\n"
      ],
      "metadata": {
        "colab": {
          "base_uri": "https://localhost:8080/"
        },
        "id": "vLPdBErclJI1",
        "outputId": "bba672a1-8988-478b-e67e-d4f7c059e733"
      },
      "execution_count": null,
      "outputs": [
        {
          "output_type": "stream",
          "name": "stdout",
          "text": [
            "Qual item deve ser comprado?: goiaba\n",
            "Qual a quantidade?: 5\n",
            "\n",
            "Deseja incluir mais algo na lista? (s/n)s\n",
            "Qual item deve ser comprado?: pera\n",
            "Qual a quantidade?: 6\n",
            "\n",
            "Deseja incluir mais algo na lista? (s/n)n\n",
            "Ok, gerando a lista...\n",
            "Produto                    Quantidade\n",
            " goiaba                      5\n",
            " pera                        6\n"
          ]
        }
      ]
    },
    {
      "cell_type": "code",
      "source": [
        "print (listam)\n",
        "print (len(listam[0][0]))\n",
        "listam.clear()\n"
      ],
      "metadata": {
        "colab": {
          "base_uri": "https://localhost:8080/"
        },
        "id": "wIF3Q-GQvmqu",
        "outputId": "aac74b2c-83e3-4de7-ccd3-391b786f6f4e"
      },
      "execution_count": null,
      "outputs": [
        {
          "output_type": "stream",
          "name": "stdout",
          "text": [
            "[['goiaba', '5'], ['pera', '6']]\n",
            "6\n"
          ]
        }
      ]
    },
    {
      "cell_type": "markdown",
      "source": [
        "Dicionário"
      ],
      "metadata": {
        "id": "KRMgbMBk4jID"
      }
    },
    {
      "cell_type": "code",
      "source": [
        "game = {'nome':'supermário',\n",
        "        'console':'ns1',\n",
        "        'desenvolvedora': 'nintendo'\n",
        " }\n"
      ],
      "metadata": {
        "id": "6c-LanEp4kwW"
      },
      "execution_count": null,
      "outputs": []
    },
    {
      "cell_type": "code",
      "source": [
        "print (game)"
      ],
      "metadata": {
        "colab": {
          "base_uri": "https://localhost:8080/"
        },
        "id": "i5YP2KMP9e_r",
        "outputId": "eab85b05-e548-417e-bbac-ae5b8a9cd82f"
      },
      "execution_count": null,
      "outputs": [
        {
          "output_type": "stream",
          "name": "stdout",
          "text": [
            "{'nome': 'supermário', 'console': 'ns1', 'desenvolvedora': 'nintendo'}\n"
          ]
        }
      ]
    },
    {
      "cell_type": "code",
      "source": [
        "print (game.values())"
      ],
      "metadata": {
        "colab": {
          "base_uri": "https://localhost:8080/"
        },
        "id": "gOTq7fsT-rWn",
        "outputId": "4b669a3b-7bda-4b4f-e8cb-d4c59510c18c"
      },
      "execution_count": null,
      "outputs": [
        {
          "output_type": "stream",
          "name": "stdout",
          "text": [
            "dict_values(['supermário', 'ns1', 'nintendo'])\n"
          ]
        }
      ]
    },
    {
      "cell_type": "code",
      "source": [
        "print (game.keys())"
      ],
      "metadata": {
        "colab": {
          "base_uri": "https://localhost:8080/"
        },
        "id": "G_ihssH3-wIn",
        "outputId": "eb3db068-601d-4bde-d944-eced95a6ca81"
      },
      "execution_count": null,
      "outputs": [
        {
          "output_type": "stream",
          "name": "stdout",
          "text": [
            "dict_keys(['nome', 'console', 'desenvolvedora'])\n"
          ]
        }
      ]
    },
    {
      "cell_type": "code",
      "source": [
        "for i in game.values():\n",
        "  print(i)\n"
      ],
      "metadata": {
        "colab": {
          "base_uri": "https://localhost:8080/"
        },
        "id": "kfvVr8Bq-40U",
        "outputId": "5b136652-a6bf-4265-bb07-a2814566cf38"
      },
      "execution_count": null,
      "outputs": [
        {
          "output_type": "stream",
          "name": "stdout",
          "text": [
            "supermário\n",
            "ns1\n",
            "nintendo\n"
          ]
        }
      ]
    },
    {
      "cell_type": "code",
      "source": [
        "for i in game.keys():\n",
        "  print(i)"
      ],
      "metadata": {
        "colab": {
          "base_uri": "https://localhost:8080/"
        },
        "id": "ZVI4q5M4_Ccu",
        "outputId": "0670274f-e708-49ea-a000-bdf7d7a804bc"
      },
      "execution_count": null,
      "outputs": [
        {
          "output_type": "stream",
          "name": "stdout",
          "text": [
            "nome\n",
            "console\n",
            "desenvolvedora\n"
          ]
        }
      ]
    },
    {
      "cell_type": "code",
      "source": [
        "print (game.items())"
      ],
      "metadata": {
        "colab": {
          "base_uri": "https://localhost:8080/"
        },
        "id": "aBfintvE_LIb",
        "outputId": "5d310cef-f409-4f52-94f0-a6b4164fc2bd"
      },
      "execution_count": null,
      "outputs": [
        {
          "output_type": "stream",
          "name": "stdout",
          "text": [
            "dict_items([('nome', 'supermário'), ('console', 'ns1'), ('desenvolvedora', 'nintendo')])\n"
          ]
        }
      ]
    },
    {
      "cell_type": "code",
      "source": [
        "for i,j in game.items():\n",
        "  print ('{} = {}'.format(i,j))"
      ],
      "metadata": {
        "colab": {
          "base_uri": "https://localhost:8080/"
        },
        "id": "ezwh7veY_SmP",
        "outputId": "835dd59a-42a3-4e01-b952-42bd2fec2ee1"
      },
      "execution_count": null,
      "outputs": [
        {
          "output_type": "stream",
          "name": "stdout",
          "text": [
            "nome = supermário\n",
            "console = ns1\n",
            "desenvolvedora = nintendo\n"
          ]
        }
      ]
    },
    {
      "cell_type": "code",
      "source": [
        "games = []\n",
        "game1 = {'nome':'supermário',\n",
        "        'console':'ns1',\n",
        "        'desenvolvedora': 'nintendo' }\n",
        "game2 = {'nome':'zelda revoluctions',\n",
        "        'console':'ps4',\n",
        "        'desenvolvedora': 'nintendo' }\n",
        "game3 = {'nome':'katamari damaci',\n",
        "        'console':'ps4',\n",
        "        'desenvolvedora': 'nanco' }     \n",
        "game4 = {'nome':'lost ark',\n",
        "        'console':'pc',\n",
        "        'desenvolvedora': 'amazon games' }       \n",
        "games = [game1, game2, game3, game4]           \n",
        "\n",
        "print (games)"
      ],
      "metadata": {
        "colab": {
          "base_uri": "https://localhost:8080/"
        },
        "id": "vjxTqbe7_12-",
        "outputId": "42dd583f-233e-4c17-9f41-505d836a313a"
      },
      "execution_count": null,
      "outputs": [
        {
          "output_type": "stream",
          "name": "stdout",
          "text": [
            "[{'nome': 'supermário', 'console': 'ns1', 'desenvolvedora': 'nintendo'}, {'nome': 'zelda revoluctions', 'console': 'ps4', 'desenvolvedora': 'nintendo'}, {'nome': 'katamari damaci', 'console': 'ps4', 'desenvolvedora': 'nanco'}, {'nome': 'lost ark', 'console': 'pc', 'desenvolvedora': 'amazon games'}]\n"
          ]
        }
      ]
    },
    {
      "cell_type": "code",
      "source": [
        "game={}\n",
        "games=[]\n",
        "for i in range (3):\n",
        "  game['nome']=input('Digite o nome do jogo: ')\n",
        "  game['console']=input('Digite o console do jogo: ')\n",
        "  game['fabricante']=input('Digite o fabricante do jogo: ')\n",
        "  games.append(game.copy())\n",
        "print ('-'*20)\n",
        " \n",
        "for e in games:\n",
        "  for i, j in e.items():\n",
        "      print ('O campo {} possui o valor {}'.format(i, j))"
      ],
      "metadata": {
        "colab": {
          "base_uri": "https://localhost:8080/"
        },
        "id": "R2OYsP2HAi1r",
        "outputId": "dfe950dd-2085-4cb1-f920-82427a3552c5"
      },
      "execution_count": null,
      "outputs": [
        {
          "output_type": "stream",
          "name": "stdout",
          "text": [
            "Digite o nome do jogo: a\n",
            "Digite o console do jogo: c\n",
            "Digite o fabricante do jogo: d\n",
            "Digite o nome do jogo: f\n",
            "Digite o console do jogo: g\n",
            "Digite o fabricante do jogo: h\n",
            "Digite o nome do jogo: i\n",
            "Digite o console do jogo: j\n",
            "Digite o fabricante do jogo: l\n",
            "--------------------\n",
            "O campo nome possui o valor a\n",
            "O campo console possui o valor c\n",
            "O campo fabricante possui o valor d\n",
            "O campo nome possui o valor f\n",
            "O campo console possui o valor g\n",
            "O campo fabricante possui o valor h\n",
            "O campo nome possui o valor i\n",
            "O campo console possui o valor j\n",
            "O campo fabricante possui o valor l\n"
          ]
        }
      ]
    },
    {
      "cell_type": "code",
      "source": [
        "game = {'nome':['lost ark', 'cabal', 'katamari'],\n",
        "        'console':['pc', 'pc', 'Ps4'],\n",
        "        'fabricante':['amazon games', 'ncsoft', 'nanco']   \n",
        "}"
      ],
      "metadata": {
        "id": "39ON-winDn6J"
      },
      "execution_count": null,
      "outputs": []
    },
    {
      "cell_type": "code",
      "source": [
        "print (game)"
      ],
      "metadata": {
        "colab": {
          "base_uri": "https://localhost:8080/"
        },
        "id": "-cfZnM51EIp2",
        "outputId": "84ab31f0-eb1c-484a-f718-374a67c758a0"
      },
      "execution_count": null,
      "outputs": [
        {
          "output_type": "stream",
          "name": "stdout",
          "text": [
            "{'nome': ['lost ark', 'cabal', 'katamari'], 'console': ['pc', 'pc', 'Ps4'], 'fabricante': ['amazon games', 'ncsoft', 'nanco']}\n"
          ]
        }
      ]
    },
    {
      "cell_type": "code",
      "source": [
        "games = {'nome':[], 'console':[], 'fabricante':[]}\n",
        "for i in range (3):\n",
        "  nome=input('Digite o nome do jogo: ')\n",
        "  console=input('Digite o console do jogo: ')\n",
        "  fabricante=input('Digite o fabricante do jogo: ')\n",
        "  games['nome'].append(nome)\n",
        "  games['console'].append(console)\n",
        "  games['fabricante'].append(fabricante)\n",
        "\n",
        "print ('')\n",
        "print (games)\n",
        "\n"
      ],
      "metadata": {
        "id": "x1PTw-gxEMrW"
      },
      "execution_count": null,
      "outputs": []
    },
    {
      "cell_type": "code",
      "source": [
        ""
      ],
      "metadata": {
        "id": "XL2uVmOGF_Tr"
      },
      "execution_count": null,
      "outputs": []
    },
    {
      "cell_type": "markdown",
      "source": [
        "String Avançadas"
      ],
      "metadata": {
        "id": "qGDfTl12KdcU"
      }
    },
    {
      "cell_type": "code",
      "source": [
        "a='oi'\n",
        "print (a)\n",
        "a[0]='a'"
      ],
      "metadata": {
        "colab": {
          "base_uri": "https://localhost:8080/",
          "height": 217
        },
        "id": "UvV2EVw3Kf94",
        "outputId": "17c90134-8e8f-40cd-d73d-d923b235a002"
      },
      "execution_count": null,
      "outputs": [
        {
          "output_type": "stream",
          "name": "stdout",
          "text": [
            "oi\n"
          ]
        },
        {
          "output_type": "error",
          "ename": "TypeError",
          "evalue": "ignored",
          "traceback": [
            "\u001b[0;31m---------------------------------------------------------------------------\u001b[0m",
            "\u001b[0;31mTypeError\u001b[0m                                 Traceback (most recent call last)",
            "\u001b[0;32m<ipython-input-170-43fecc785b12>\u001b[0m in \u001b[0;36m<module>\u001b[0;34m()\u001b[0m\n\u001b[1;32m      1\u001b[0m \u001b[0ma\u001b[0m\u001b[0;34m=\u001b[0m\u001b[0;34m'oi'\u001b[0m\u001b[0;34m\u001b[0m\u001b[0;34m\u001b[0m\u001b[0m\n\u001b[1;32m      2\u001b[0m \u001b[0mprint\u001b[0m \u001b[0;34m(\u001b[0m\u001b[0ma\u001b[0m\u001b[0;34m)\u001b[0m\u001b[0;34m\u001b[0m\u001b[0;34m\u001b[0m\u001b[0m\n\u001b[0;32m----> 3\u001b[0;31m \u001b[0ma\u001b[0m\u001b[0;34m[\u001b[0m\u001b[0;36m0\u001b[0m\u001b[0;34m]\u001b[0m\u001b[0;34m=\u001b[0m\u001b[0;34m'a'\u001b[0m\u001b[0;34m\u001b[0m\u001b[0;34m\u001b[0m\u001b[0m\n\u001b[0m",
            "\u001b[0;31mTypeError\u001b[0m: 'str' object does not support item assignment"
          ]
        }
      ]
    },
    {
      "cell_type": "code",
      "source": [
        "a=list('oi')\n",
        "print (a)\n",
        "print(''.join(a))"
      ],
      "metadata": {
        "colab": {
          "base_uri": "https://localhost:8080/"
        },
        "id": "BsBfsbTeLAOV",
        "outputId": "30cf11ee-705f-4abb-8b7a-5370ab803285"
      },
      "execution_count": null,
      "outputs": [
        {
          "output_type": "stream",
          "name": "stdout",
          "text": [
            "['o', 'i']\n",
            "oi\n"
          ]
        }
      ]
    },
    {
      "cell_type": "code",
      "source": [
        "a[0]='a'\n",
        "print(''.join(a))"
      ],
      "metadata": {
        "colab": {
          "base_uri": "https://localhost:8080/"
        },
        "id": "d0rXII7TLkeh",
        "outputId": "1d61f7b5-e167-4627-e98b-2fd364be6f08"
      },
      "execution_count": null,
      "outputs": [
        {
          "output_type": "stream",
          "name": "stdout",
          "text": [
            "ai\n"
          ]
        }
      ]
    },
    {
      "cell_type": "code",
      "source": [
        "b='Hoje é terça feira'\n",
        "b.startswith('Hoje')"
      ],
      "metadata": {
        "colab": {
          "base_uri": "https://localhost:8080/"
        },
        "id": "wRHurRiKMA6Z",
        "outputId": "8bd0739a-1e61-4687-85fa-0e79b2fea6ac"
      },
      "execution_count": null,
      "outputs": [
        {
          "output_type": "execute_result",
          "data": {
            "text/plain": [
              "True"
            ]
          },
          "metadata": {},
          "execution_count": 176
        }
      ]
    },
    {
      "cell_type": "code",
      "source": [
        "b='Hoje é terça feira'\n",
        "b.endswith('feira')"
      ],
      "metadata": {
        "colab": {
          "base_uri": "https://localhost:8080/"
        },
        "id": "9EDCvP3xMWdp",
        "outputId": "42ae991f-1ce7-45dd-94e1-cff644f9ce7f"
      },
      "execution_count": null,
      "outputs": [
        {
          "output_type": "execute_result",
          "data": {
            "text/plain": [
              "True"
            ]
          },
          "metadata": {},
          "execution_count": 177
        }
      ]
    },
    {
      "cell_type": "code",
      "source": [
        "b='Hoje é terça feira'\n",
        "b.endswith('sábado')"
      ],
      "metadata": {
        "colab": {
          "base_uri": "https://localhost:8080/"
        },
        "id": "b4YHkKQpMeTf",
        "outputId": "ce723521-0ff0-4b10-ed33-cb1545296622"
      },
      "execution_count": null,
      "outputs": [
        {
          "output_type": "execute_result",
          "data": {
            "text/plain": [
              "False"
            ]
          },
          "metadata": {},
          "execution_count": 179
        }
      ]
    },
    {
      "cell_type": "code",
      "source": [
        "b='Hoje é terça feira'\n",
        "print(b.upper())\n",
        "print(b.lower())"
      ],
      "metadata": {
        "colab": {
          "base_uri": "https://localhost:8080/"
        },
        "id": "lFSGiJDPMn3X",
        "outputId": "028cfb64-03cb-4304-cc6e-324a9c150c6b"
      },
      "execution_count": null,
      "outputs": [
        {
          "output_type": "stream",
          "name": "stdout",
          "text": [
            "HOJE É TERÇA FEIRA\n",
            "hoje é terça feira\n"
          ]
        }
      ]
    },
    {
      "cell_type": "code",
      "source": [
        "b='Hoje é terça Feira'\n",
        "b.lower().endswith('feira')"
      ],
      "metadata": {
        "colab": {
          "base_uri": "https://localhost:8080/"
        },
        "id": "WzgiyqUUNQAK",
        "outputId": "08668a39-322b-4ff7-cd70-82e376307608"
      },
      "execution_count": null,
      "outputs": [
        {
          "output_type": "execute_result",
          "data": {
            "text/plain": [
              "True"
            ]
          },
          "metadata": {},
          "execution_count": 184
        }
      ]
    },
    {
      "cell_type": "code",
      "source": [
        "b='Hoje é terça Feira'\n",
        "b.count('e')"
      ],
      "metadata": {
        "colab": {
          "base_uri": "https://localhost:8080/"
        },
        "id": "0qdER_CKNlj0",
        "outputId": "7ddec35b-b877-46e3-dd10-e1c3df0c1237"
      },
      "execution_count": null,
      "outputs": [
        {
          "output_type": "execute_result",
          "data": {
            "text/plain": [
              "3"
            ]
          },
          "metadata": {},
          "execution_count": 185
        }
      ]
    },
    {
      "cell_type": "code",
      "source": [
        "b='Um gato, dois gatos, 3 gatos.'\n",
        "b.replace('gato','felino')\n",
        "b.replace('3', 'três')\n",
        "b.replace('gato','canino',2)"
      ],
      "metadata": {
        "colab": {
          "base_uri": "https://localhost:8080/",
          "height": 35
        },
        "id": "FKO1BO44OTob",
        "outputId": "641ce6a8-9987-4a9d-eadd-20b215efc7e3"
      },
      "execution_count": null,
      "outputs": [
        {
          "output_type": "execute_result",
          "data": {
            "text/plain": [
              "'Um canino, dois caninos, 3 gatos.'"
            ],
            "application/vnd.google.colaboratory.intrinsic+json": {
              "type": "string"
            }
          },
          "metadata": {},
          "execution_count": 190
        }
      ]
    },
    {
      "cell_type": "code",
      "source": [
        "a='terça feira'\n",
        "b='29'"
      ],
      "metadata": {
        "id": "dLPEd9fPPP1T"
      },
      "execution_count": null,
      "outputs": []
    },
    {
      "cell_type": "code",
      "source": [
        "print (a.isalnum())\n",
        "print (b.isalnum())"
      ],
      "metadata": {
        "colab": {
          "base_uri": "https://localhost:8080/"
        },
        "id": "_Zs66RT0PWxY",
        "outputId": "d298bb02-4920-41f5-d264-b740a1a5185a"
      },
      "execution_count": null,
      "outputs": [
        {
          "output_type": "stream",
          "name": "stdout",
          "text": [
            "False\n",
            "True\n"
          ]
        }
      ]
    },
    {
      "cell_type": "code",
      "source": [
        "print (a.isalpha())\n",
        "print (b.isalpha())"
      ],
      "metadata": {
        "colab": {
          "base_uri": "https://localhost:8080/"
        },
        "id": "U9GLBRyLP0qz",
        "outputId": "986b3bb7-75c2-4195-d3b0-6447daa31c41"
      },
      "execution_count": null,
      "outputs": [
        {
          "output_type": "stream",
          "name": "stdout",
          "text": [
            "False\n",
            "False\n"
          ]
        }
      ]
    }
  ]
}