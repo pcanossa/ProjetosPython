{
  "nbformat": 4,
  "nbformat_minor": 0,
  "metadata": {
    "colab": {
      "name": "Untitled0.ipynb",
      "provenance": [],
      "authorship_tag": "ABX9TyM1r9CvULAg6nlcn+pqgeKH",
      "include_colab_link": true
    },
    "kernelspec": {
      "name": "python3",
      "display_name": "Python 3"
    },
    "language_info": {
      "name": "python"
    }
  },
  "cells": [
    {
      "cell_type": "markdown",
      "metadata": {
        "id": "view-in-github",
        "colab_type": "text"
      },
      "source": [
        "<a href=\"https://colab.research.google.com/github/pcanossa/pcanossa/blob/main/Pr%C3%A1tica%20inicial%20(noob).ipynb\" target=\"_parent\"><img src=\"https://colab.research.google.com/assets/colab-badge.svg\" alt=\"Open In Colab\"/></a>"
      ]
    },
    {
      "cell_type": "code",
      "execution_count": 1,
      "metadata": {
        "colab": {
          "base_uri": "https://localhost:8080/"
        },
        "id": "-dEOQbgFOv5c",
        "outputId": "a15d5de8-a641-419a-932a-fb5f11dc6883"
      },
      "outputs": [
        {
          "output_type": "stream",
          "name": "stdout",
          "text": [
            "Hello World!\n"
          ]
        }
      ],
      "source": [
        "print (\"Hello World!\")"
      ]
    },
    {
      "cell_type": "markdown",
      "source": [
        "Teste cod string"
      ],
      "metadata": {
        "id": "SCgGql0Vfb4W"
      }
    },
    {
      "cell_type": "code",
      "source": [
        "print (\"Hello World!\")"
      ],
      "metadata": {
        "colab": {
          "base_uri": "https://localhost:8080/"
        },
        "id": "zQZwGM5afejb",
        "outputId": "828734d8-4acd-4168-d9ba-6829ad55ee2e"
      },
      "execution_count": 26,
      "outputs": [
        {
          "output_type": "stream",
          "name": "stdout",
          "text": [
            "Hello World!\n"
          ]
        }
      ]
    },
    {
      "cell_type": "code",
      "source": [
        "frase= \"Hello world!\"\n",
        "print (frase[1]) "
      ],
      "metadata": {
        "colab": {
          "base_uri": "https://localhost:8080/"
        },
        "id": "jcQ0WUv-fhG6",
        "outputId": "dcc80ba9-52a2-429c-bb4c-f824291f4c63"
      },
      "execution_count": 27,
      "outputs": [
        {
          "output_type": "stream",
          "name": "stdout",
          "text": [
            "e\n"
          ]
        }
      ]
    },
    {
      "cell_type": "markdown",
      "source": [
        "Texte inicial Print"
      ],
      "metadata": {
        "id": "AJwa3-q8Taov"
      }
    },
    {
      "cell_type": "code",
      "source": [
        "print (1+2+3+4)"
      ],
      "metadata": {
        "colab": {
          "base_uri": "https://localhost:8080/"
        },
        "id": "YRROqSDZTeTI",
        "outputId": "953a42c1-8d9c-49e4-884d-702b11b4c1c6"
      },
      "execution_count": 2,
      "outputs": [
        {
          "output_type": "stream",
          "name": "stdout",
          "text": [
            "10\n"
          ]
        }
      ]
    },
    {
      "cell_type": "code",
      "source": [
        "print (\"Hello \"+'world!')"
      ],
      "metadata": {
        "colab": {
          "base_uri": "https://localhost:8080/"
        },
        "id": "XViiLc8-TloG",
        "outputId": "d19df260-83bc-4675-a4fd-ef8d1e0a57a8"
      },
      "execution_count": 3,
      "outputs": [
        {
          "output_type": "stream",
          "name": "stdout",
          "text": [
            "Hello world!\n"
          ]
        }
      ]
    },
    {
      "cell_type": "code",
      "source": [
        "print ('a soma em minutos de 3horas e meia é de:',(3*60)+30, \"minutos.\")"
      ],
      "metadata": {
        "colab": {
          "base_uri": "https://localhost:8080/"
        },
        "id": "kt6a2V4nTvmD",
        "outputId": "9e206b9a-90ed-4565-be49-ec6178ecbff3"
      },
      "execution_count": 21,
      "outputs": [
        {
          "output_type": "stream",
          "name": "stdout",
          "text": [
            "a soma em minutos de 3horas e meia é de: 210 minutos.\n"
          ]
        }
      ]
    },
    {
      "cell_type": "markdown",
      "source": [
        "Teste de variáveis"
      ],
      "metadata": {
        "id": "iTvtUZ2dbQYC"
      }
    },
    {
      "cell_type": "code",
      "source": [
        "raça='teckel'\n",
        "especie='cão'\n",
        "\n",
        "print (raça, \"é uma raça de \",especie)"
      ],
      "metadata": {
        "colab": {
          "base_uri": "https://localhost:8080/"
        },
        "id": "7P024gYPbSiJ",
        "outputId": "293c91d2-d41c-4fa7-b922-723c9b28a7cf"
      },
      "execution_count": 23,
      "outputs": [
        {
          "output_type": "stream",
          "name": "stdout",
          "text": [
            "teckel é uma raça de  cão\n"
          ]
        }
      ]
    },
    {
      "cell_type": "code",
      "source": [
        "a = 5\n",
        "b = 6\n",
        "resposta = a==b\n",
        "\n",
        "print (resposta)"
      ],
      "metadata": {
        "colab": {
          "base_uri": "https://localhost:8080/"
        },
        "id": "2P62isJJeJl7",
        "outputId": "5908a0eb-5de8-4020-f969-3fbf63b9d1b5"
      },
      "execution_count": 25,
      "outputs": [
        {
          "output_type": "stream",
          "name": "stdout",
          "text": [
            "False\n"
          ]
        }
      ]
    },
    {
      "cell_type": "markdown",
      "source": [
        "Manipulação de variáveis"
      ],
      "metadata": {
        "id": "wBdE0o4HgDB0"
      }
    },
    {
      "cell_type": "code",
      "source": [
        "nome='Lógica de programação'\n",
        "nomec= nome + \" e algoritimos\"\n",
        "\n",
        "print (nomec)"
      ],
      "metadata": {
        "colab": {
          "base_uri": "https://localhost:8080/"
        },
        "id": "S6jTtuHugHju",
        "outputId": "7674dd2b-b85f-46e7-a2ce-46fb8cc80b4e"
      },
      "execution_count": 28,
      "outputs": [
        {
          "output_type": "stream",
          "name": "stdout",
          "text": [
            "Lógica de programação e algoritimos\n"
          ]
        }
      ]
    },
    {
      "cell_type": "code",
      "source": [
        "s1='a'+10*'-'+'b'\n",
        "print(s1)"
      ],
      "metadata": {
        "colab": {
          "base_uri": "https://localhost:8080/"
        },
        "id": "OOwDqqJ2gg_x",
        "outputId": "603ce57e-ca58-4d1b-f8c4-bd2d775582f5"
      },
      "execution_count": 29,
      "outputs": [
        {
          "output_type": "stream",
          "name": "stdout",
          "text": [
            "a----------b\n"
          ]
        }
      ]
    },
    {
      "cell_type": "code",
      "source": [
        "nota=9.8\n",
        "s='Você tirou %f na disciplina' %nota\n",
        "s2='Você tirou %.2f na disciplina' %nota\n",
        "print (s)\n",
        "print (s2)"
      ],
      "metadata": {
        "colab": {
          "base_uri": "https://localhost:8080/"
        },
        "id": "hfvHbLbvg2jE",
        "outputId": "31e2f6aa-8587-4aa9-c3d4-b4e0f50527e2"
      },
      "execution_count": 31,
      "outputs": [
        {
          "output_type": "stream",
          "name": "stdout",
          "text": [
            "Você tirou 9.800000 na disciplina\n",
            "Você tirou 9.80 na disciplina\n"
          ]
        }
      ]
    },
    {
      "cell_type": "code",
      "source": [
        "temperatura=30.8\n",
        "estacao=\"verão\"\n",
        "clima='Nesse %s a temperatura chegou à %.1f °' %(estacao, temperatura)\n",
        "\n",
        "print(clima)"
      ],
      "metadata": {
        "colab": {
          "base_uri": "https://localhost:8080/"
        },
        "id": "R4yd74Uoh6Di",
        "outputId": "18cfd041-2906-4067-cb97-21d9a283537c"
      },
      "execution_count": 36,
      "outputs": [
        {
          "output_type": "stream",
          "name": "stdout",
          "text": [
            "Nesse verão a temperatura chegou à 30.8 °\n"
          ]
        }
      ]
    },
    {
      "cell_type": "code",
      "source": [
        "temperatura=30.8\n",
        "estacao=\"verão\"\n",
        "clima='Nesse {} a temperatura chegou à {}°' .format(estacao, temperatura)\n",
        "\n",
        "print(clima)"
      ],
      "metadata": {
        "colab": {
          "base_uri": "https://localhost:8080/"
        },
        "id": "rGYx2MS8jN-P",
        "outputId": "3c86cff8-ad8f-4f93-f2ab-2c7305a15925"
      },
      "execution_count": 38,
      "outputs": [
        {
          "output_type": "stream",
          "name": "stdout",
          "text": [
            "Nesse verão a temperatura chegou à 30.8°\n"
          ]
        }
      ]
    },
    {
      "cell_type": "code",
      "source": [
        "s='Hoje é dia 18 de Março de 2022'\n",
        "print(s[0:4])"
      ],
      "metadata": {
        "colab": {
          "base_uri": "https://localhost:8080/"
        },
        "id": "DWvIOirto3mv",
        "outputId": "8721e5ba-4be7-4f97-cb37-2e9cc95b5d6b"
      },
      "execution_count": 39,
      "outputs": [
        {
          "output_type": "stream",
          "name": "stdout",
          "text": [
            "Hoje\n"
          ]
        }
      ]
    },
    {
      "cell_type": "code",
      "source": [
        "s='Hoje é dia 18 de Março de 2022'\n",
        "t=len(s)\n",
        "print(t)"
      ],
      "metadata": {
        "colab": {
          "base_uri": "https://localhost:8080/"
        },
        "id": "d2QPO-QLpNid",
        "outputId": "31b8d4b6-08f3-4389-a0a3-fc2788b9f28f"
      },
      "execution_count": 40,
      "outputs": [
        {
          "output_type": "stream",
          "name": "stdout",
          "text": [
            "30\n"
          ]
        }
      ]
    },
    {
      "cell_type": "markdown",
      "source": [
        "Função de Entrada e Fluxo"
      ],
      "metadata": {
        "id": "7NBpig4Ipioq"
      }
    },
    {
      "cell_type": "code",
      "source": [
        "horas = input('Que horas são?')\n",
        "print (horas)"
      ],
      "metadata": {
        "colab": {
          "base_uri": "https://localhost:8080/"
        },
        "id": "X6XnHSNcpldQ",
        "outputId": "14ea2590-26be-48d0-9637-15395a1af6bc"
      },
      "execution_count": 41,
      "outputs": [
        {
          "output_type": "stream",
          "name": "stdout",
          "text": [
            "Que horas são?17\n",
            "17\n"
          ]
        }
      ]
    },
    {
      "cell_type": "code",
      "source": [
        "horas = int(input(\"Em quantas horas você quer saber o total de minutos e segundos que ela possui?\"))\n",
        "minutos=horas*60\n",
        "segundos=minutos*60\n",
        "\n",
        "result='Em {} horas, possuem {} minutos e {} segundos.' .format(horas, minutos, segundos)\n",
        "print (result)"
      ],
      "metadata": {
        "colab": {
          "base_uri": "https://localhost:8080/"
        },
        "id": "hlxCys7hqHXv",
        "outputId": "362a7486-4843-41ee-908d-04d0e99b9c3a"
      },
      "execution_count": 49,
      "outputs": [
        {
          "output_type": "stream",
          "name": "stdout",
          "text": [
            "Em quantas horas você quer saber o total de minutos e segundos que ela possui?24\n",
            "Em 24 horas, possuem 1440 minutos e 86400 segundos.\n"
          ]
        }
      ]
    },
    {
      "cell_type": "markdown",
      "source": [
        ""
      ],
      "metadata": {
        "id": "IUmTGuQgsgRH"
      }
    },
    {
      "cell_type": "code",
      "source": [
        "dia=input('Que dia da semana é hoje?')\n",
        "ms='Que seu(a) {} seja maravilhoso(a)'.format(dia)\n",
        "\n",
        "# print(ms) ou\n",
        "\n",
        "print ('Que seu(a) {} seja maravilhoso(a)'.format(dia))"
      ],
      "metadata": {
        "colab": {
          "base_uri": "https://localhost:8080/"
        },
        "id": "nPTPD1lhrI7W",
        "outputId": "ee2e0526-fd5b-4bdd-8eb6-3c57c6526124"
      },
      "execution_count": 48,
      "outputs": [
        {
          "output_type": "stream",
          "name": "stdout",
          "text": [
            "Que dia da semana é hoje?sexta\n",
            "Que seu(a) sexta seja maravilhoso(a)\n"
          ]
        }
      ]
    },
    {
      "cell_type": "markdown",
      "source": [
        "Exerecício"
      ],
      "metadata": {
        "id": "u2iDBE5xslM4"
      }
    },
    {
      "cell_type": "code",
      "source": [
        "v1=int(input('Informe um valor'))\n",
        "v2=int(input('Informe um valor'))\n",
        "soma=v1+v2\n",
        "\n",
        "print('A soma dos valores é {}'.format(soma))\n"
      ],
      "metadata": {
        "colab": {
          "base_uri": "https://localhost:8080/"
        },
        "id": "s_9RrHcOsm_-",
        "outputId": "4a2faa5d-b9a2-45fb-85e0-60d7c496f1cc"
      },
      "execution_count": 50,
      "outputs": [
        {
          "output_type": "stream",
          "name": "stdout",
          "text": [
            "Informe um valor6\n",
            "Informe um valor42\n",
            "A soma dos valores é 48\n"
          ]
        }
      ]
    }
  ]
}